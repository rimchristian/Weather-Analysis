{
 "cells": [
  {
   "cell_type": "code",
   "execution_count": 1,
   "id": "ff2c6ffc",
   "metadata": {},
   "outputs": [],
   "source": [
    "import pandas as pd\n",
    "import matplotlib.pyplot as plt\n",
    "import matplotlib.dates as mdates\n",
    "import matplotlib.ticker as mticks\n",
    "\n",
    "\n",
    "import missingno as miss\n",
    "\n",
    "import seaborn as sns\n",
    "import numpy as np\n",
    "# import statsmodels.tsa.api as tsa\n",
    "\n",
    "pd.set_option('display.float_format',lambda x:f\"{x:,.2f}\")"
   ]
  },
  {
   "cell_type": "code",
   "execution_count": 2,
   "id": "7f663c55",
   "metadata": {},
   "outputs": [],
   "source": [
    "sns.set_context('notebook',font_scale=0.9)\n",
    "plt.style.use(['ggplot'])"
   ]
  },
  {
   "cell_type": "markdown",
   "id": "edf42f0b",
   "metadata": {},
   "source": [
    "# Project Details:\n",
    "\n",
    "- This project will be about analyzing weather patterns in London. "
   ]
  },
  {
   "cell_type": "markdown",
   "id": "01776c16",
   "metadata": {},
   "source": [
    "# Part 1 - Load the data and make datatime index "
   ]
  },
  {
   "cell_type": "code",
   "execution_count": 101,
   "id": "d313237e",
   "metadata": {},
   "outputs": [
    {
     "data": {
      "text/html": [
       "<div>\n",
       "<style scoped>\n",
       "    .dataframe tbody tr th:only-of-type {\n",
       "        vertical-align: middle;\n",
       "    }\n",
       "\n",
       "    .dataframe tbody tr th {\n",
       "        vertical-align: top;\n",
       "    }\n",
       "\n",
       "    .dataframe thead th {\n",
       "        text-align: right;\n",
       "    }\n",
       "</style>\n",
       "<table border=\"1\" class=\"dataframe\">\n",
       "  <thead>\n",
       "    <tr style=\"text-align: right;\">\n",
       "      <th></th>\n",
       "      <th>date</th>\n",
       "      <th>cloud_cover</th>\n",
       "      <th>sunshine</th>\n",
       "      <th>global_radiation</th>\n",
       "      <th>max_temp</th>\n",
       "      <th>mean_temp</th>\n",
       "      <th>min_temp</th>\n",
       "      <th>precipitation</th>\n",
       "      <th>pressure</th>\n",
       "      <th>snow_depth</th>\n",
       "    </tr>\n",
       "  </thead>\n",
       "  <tbody>\n",
       "    <tr>\n",
       "      <th>0</th>\n",
       "      <td>19790101</td>\n",
       "      <td>2.00</td>\n",
       "      <td>7.00</td>\n",
       "      <td>52.00</td>\n",
       "      <td>2.30</td>\n",
       "      <td>-4.10</td>\n",
       "      <td>-7.50</td>\n",
       "      <td>0.40</td>\n",
       "      <td>101,900.00</td>\n",
       "      <td>9.00</td>\n",
       "    </tr>\n",
       "    <tr>\n",
       "      <th>1</th>\n",
       "      <td>19790102</td>\n",
       "      <td>6.00</td>\n",
       "      <td>1.70</td>\n",
       "      <td>27.00</td>\n",
       "      <td>1.60</td>\n",
       "      <td>-2.60</td>\n",
       "      <td>-7.50</td>\n",
       "      <td>0.00</td>\n",
       "      <td>102,530.00</td>\n",
       "      <td>8.00</td>\n",
       "    </tr>\n",
       "    <tr>\n",
       "      <th>2</th>\n",
       "      <td>19790103</td>\n",
       "      <td>5.00</td>\n",
       "      <td>0.00</td>\n",
       "      <td>13.00</td>\n",
       "      <td>1.30</td>\n",
       "      <td>-2.80</td>\n",
       "      <td>-7.20</td>\n",
       "      <td>0.00</td>\n",
       "      <td>102,050.00</td>\n",
       "      <td>4.00</td>\n",
       "    </tr>\n",
       "    <tr>\n",
       "      <th>3</th>\n",
       "      <td>19790104</td>\n",
       "      <td>8.00</td>\n",
       "      <td>0.00</td>\n",
       "      <td>13.00</td>\n",
       "      <td>-0.30</td>\n",
       "      <td>-2.60</td>\n",
       "      <td>-6.50</td>\n",
       "      <td>0.00</td>\n",
       "      <td>100,840.00</td>\n",
       "      <td>2.00</td>\n",
       "    </tr>\n",
       "    <tr>\n",
       "      <th>4</th>\n",
       "      <td>19790105</td>\n",
       "      <td>6.00</td>\n",
       "      <td>2.00</td>\n",
       "      <td>29.00</td>\n",
       "      <td>5.60</td>\n",
       "      <td>-0.80</td>\n",
       "      <td>-1.40</td>\n",
       "      <td>0.00</td>\n",
       "      <td>102,250.00</td>\n",
       "      <td>1.00</td>\n",
       "    </tr>\n",
       "  </tbody>\n",
       "</table>\n",
       "</div>"
      ],
      "text/plain": [
       "       date  cloud_cover  sunshine  global_radiation  max_temp  mean_temp  \\\n",
       "0  19790101         2.00      7.00             52.00      2.30      -4.10   \n",
       "1  19790102         6.00      1.70             27.00      1.60      -2.60   \n",
       "2  19790103         5.00      0.00             13.00      1.30      -2.80   \n",
       "3  19790104         8.00      0.00             13.00     -0.30      -2.60   \n",
       "4  19790105         6.00      2.00             29.00      5.60      -0.80   \n",
       "\n",
       "   min_temp  precipitation   pressure  snow_depth  \n",
       "0     -7.50           0.40 101,900.00        9.00  \n",
       "1     -7.50           0.00 102,530.00        8.00  \n",
       "2     -7.20           0.00 102,050.00        4.00  \n",
       "3     -6.50           0.00 100,840.00        2.00  \n",
       "4     -1.40           0.00 102,250.00        1.00  "
      ]
     },
     "execution_count": 101,
     "metadata": {},
     "output_type": "execute_result"
    }
   ],
   "source": [
    "\n",
    "# Read the CSV file into a DataFrame\n",
    "df = pd.read_csv('/Users/christianrim/Documents/Weather Analysis/Data/london_weather.csv')\n",
    "\n",
    "\n",
    "# Display the first few rows of the DataFrame\n",
    "df.head()"
   ]
  },
  {
   "cell_type": "code",
   "execution_count": 102,
   "id": "24606a46",
   "metadata": {},
   "outputs": [
    {
     "name": "stdout",
     "output_type": "stream",
     "text": [
      "<class 'pandas.core.frame.DataFrame'>\n",
      "RangeIndex: 15341 entries, 0 to 15340\n",
      "Data columns (total 10 columns):\n",
      " #   Column            Non-Null Count  Dtype  \n",
      "---  ------            --------------  -----  \n",
      " 0   date              15341 non-null  int64  \n",
      " 1   cloud_cover       15322 non-null  float64\n",
      " 2   sunshine          15341 non-null  float64\n",
      " 3   global_radiation  15322 non-null  float64\n",
      " 4   max_temp          15335 non-null  float64\n",
      " 5   mean_temp         15305 non-null  float64\n",
      " 6   min_temp          15339 non-null  float64\n",
      " 7   precipitation     15335 non-null  float64\n",
      " 8   pressure          15337 non-null  float64\n",
      " 9   snow_depth        13900 non-null  float64\n",
      "dtypes: float64(9), int64(1)\n",
      "memory usage: 1.2 MB\n"
     ]
    }
   ],
   "source": [
    "df.info()"
   ]
  },
  {
   "cell_type": "code",
   "execution_count": 103,
   "id": "f3b1fd74",
   "metadata": {},
   "outputs": [
    {
     "name": "stdout",
     "output_type": "stream",
     "text": [
      "<class 'pandas.core.frame.DataFrame'>\n",
      "RangeIndex: 15341 entries, 0 to 15340\n",
      "Data columns (total 10 columns):\n",
      " #   Column            Non-Null Count  Dtype         \n",
      "---  ------            --------------  -----         \n",
      " 0   date              15341 non-null  datetime64[ns]\n",
      " 1   cloud_cover       15322 non-null  float64       \n",
      " 2   sunshine          15341 non-null  float64       \n",
      " 3   global_radiation  15322 non-null  float64       \n",
      " 4   max_temp          15335 non-null  float64       \n",
      " 5   mean_temp         15305 non-null  float64       \n",
      " 6   min_temp          15339 non-null  float64       \n",
      " 7   precipitation     15335 non-null  float64       \n",
      " 8   pressure          15337 non-null  float64       \n",
      " 9   snow_depth        13900 non-null  float64       \n",
      "dtypes: datetime64[ns](1), float64(9)\n",
      "memory usage: 1.2 MB\n"
     ]
    }
   ],
   "source": [
    "#adding a datetime column based on the string in the \"date\" column\n",
    "df['date'] = pd.to_datetime(df['date'], format='%Y%m%d')\n",
    "df.info()"
   ]
  },
  {
   "cell_type": "code",
   "execution_count": 104,
   "id": "3b3832e9",
   "metadata": {},
   "outputs": [],
   "source": [
    "# setting the index for the \"date\" column \n",
    "df = df.set_index('date')"
   ]
  },
  {
   "cell_type": "code",
   "execution_count": 105,
   "id": "fa2e1f29",
   "metadata": {},
   "outputs": [
    {
     "data": {
      "text/html": [
       "<div>\n",
       "<style scoped>\n",
       "    .dataframe tbody tr th:only-of-type {\n",
       "        vertical-align: middle;\n",
       "    }\n",
       "\n",
       "    .dataframe tbody tr th {\n",
       "        vertical-align: top;\n",
       "    }\n",
       "\n",
       "    .dataframe thead th {\n",
       "        text-align: right;\n",
       "    }\n",
       "</style>\n",
       "<table border=\"1\" class=\"dataframe\">\n",
       "  <thead>\n",
       "    <tr style=\"text-align: right;\">\n",
       "      <th></th>\n",
       "      <th>cloud_cover</th>\n",
       "      <th>sunshine</th>\n",
       "      <th>global_radiation</th>\n",
       "      <th>max_temp</th>\n",
       "      <th>mean_temp</th>\n",
       "      <th>min_temp</th>\n",
       "      <th>precipitation</th>\n",
       "      <th>pressure</th>\n",
       "      <th>snow_depth</th>\n",
       "    </tr>\n",
       "    <tr>\n",
       "      <th>date</th>\n",
       "      <th></th>\n",
       "      <th></th>\n",
       "      <th></th>\n",
       "      <th></th>\n",
       "      <th></th>\n",
       "      <th></th>\n",
       "      <th></th>\n",
       "      <th></th>\n",
       "      <th></th>\n",
       "    </tr>\n",
       "  </thead>\n",
       "  <tbody>\n",
       "    <tr>\n",
       "      <th>1979-01-01</th>\n",
       "      <td>2.00</td>\n",
       "      <td>7.00</td>\n",
       "      <td>52.00</td>\n",
       "      <td>2.30</td>\n",
       "      <td>-4.10</td>\n",
       "      <td>-7.50</td>\n",
       "      <td>0.40</td>\n",
       "      <td>101,900.00</td>\n",
       "      <td>9.00</td>\n",
       "    </tr>\n",
       "    <tr>\n",
       "      <th>1979-01-02</th>\n",
       "      <td>6.00</td>\n",
       "      <td>1.70</td>\n",
       "      <td>27.00</td>\n",
       "      <td>1.60</td>\n",
       "      <td>-2.60</td>\n",
       "      <td>-7.50</td>\n",
       "      <td>0.00</td>\n",
       "      <td>102,530.00</td>\n",
       "      <td>8.00</td>\n",
       "    </tr>\n",
       "    <tr>\n",
       "      <th>1979-01-03</th>\n",
       "      <td>5.00</td>\n",
       "      <td>0.00</td>\n",
       "      <td>13.00</td>\n",
       "      <td>1.30</td>\n",
       "      <td>-2.80</td>\n",
       "      <td>-7.20</td>\n",
       "      <td>0.00</td>\n",
       "      <td>102,050.00</td>\n",
       "      <td>4.00</td>\n",
       "    </tr>\n",
       "    <tr>\n",
       "      <th>1979-01-04</th>\n",
       "      <td>8.00</td>\n",
       "      <td>0.00</td>\n",
       "      <td>13.00</td>\n",
       "      <td>-0.30</td>\n",
       "      <td>-2.60</td>\n",
       "      <td>-6.50</td>\n",
       "      <td>0.00</td>\n",
       "      <td>100,840.00</td>\n",
       "      <td>2.00</td>\n",
       "    </tr>\n",
       "    <tr>\n",
       "      <th>1979-01-05</th>\n",
       "      <td>6.00</td>\n",
       "      <td>2.00</td>\n",
       "      <td>29.00</td>\n",
       "      <td>5.60</td>\n",
       "      <td>-0.80</td>\n",
       "      <td>-1.40</td>\n",
       "      <td>0.00</td>\n",
       "      <td>102,250.00</td>\n",
       "      <td>1.00</td>\n",
       "    </tr>\n",
       "  </tbody>\n",
       "</table>\n",
       "</div>"
      ],
      "text/plain": [
       "            cloud_cover  sunshine  global_radiation  max_temp  mean_temp  \\\n",
       "date                                                                       \n",
       "1979-01-01         2.00      7.00             52.00      2.30      -4.10   \n",
       "1979-01-02         6.00      1.70             27.00      1.60      -2.60   \n",
       "1979-01-03         5.00      0.00             13.00      1.30      -2.80   \n",
       "1979-01-04         8.00      0.00             13.00     -0.30      -2.60   \n",
       "1979-01-05         6.00      2.00             29.00      5.60      -0.80   \n",
       "\n",
       "            min_temp  precipitation   pressure  snow_depth  \n",
       "date                                                        \n",
       "1979-01-01     -7.50           0.40 101,900.00        9.00  \n",
       "1979-01-02     -7.50           0.00 102,530.00        8.00  \n",
       "1979-01-03     -7.20           0.00 102,050.00        4.00  \n",
       "1979-01-04     -6.50           0.00 100,840.00        2.00  \n",
       "1979-01-05     -1.40           0.00 102,250.00        1.00  "
      ]
     },
     "execution_count": 105,
     "metadata": {},
     "output_type": "execute_result"
    }
   ],
   "source": [
    "df.head()"
   ]
  },
  {
   "cell_type": "code",
   "execution_count": 106,
   "id": "ba065ed9",
   "metadata": {},
   "outputs": [
    {
     "data": {
      "text/plain": [
       "DatetimeIndex(['1979-01-01', '1979-01-02', '1979-01-03', '1979-01-04',\n",
       "               '1979-01-05', '1979-01-06', '1979-01-07', '1979-01-08',\n",
       "               '1979-01-09', '1979-01-10',\n",
       "               ...\n",
       "               '2020-12-22', '2020-12-23', '2020-12-24', '2020-12-25',\n",
       "               '2020-12-26', '2020-12-27', '2020-12-28', '2020-12-29',\n",
       "               '2020-12-30', '2020-12-31'],\n",
       "              dtype='datetime64[ns]', name='date', length=15341, freq=None)"
      ]
     },
     "execution_count": 106,
     "metadata": {},
     "output_type": "execute_result"
    }
   ],
   "source": [
    "# confirmation that the data has changed \n",
    "df.index"
   ]
  },
  {
   "cell_type": "code",
   "execution_count": 107,
   "id": "c773e572",
   "metadata": {},
   "outputs": [
    {
     "data": {
      "text/html": [
       "<div>\n",
       "<style scoped>\n",
       "    .dataframe tbody tr th:only-of-type {\n",
       "        vertical-align: middle;\n",
       "    }\n",
       "\n",
       "    .dataframe tbody tr th {\n",
       "        vertical-align: top;\n",
       "    }\n",
       "\n",
       "    .dataframe thead th {\n",
       "        text-align: right;\n",
       "    }\n",
       "</style>\n",
       "<table border=\"1\" class=\"dataframe\">\n",
       "  <thead>\n",
       "    <tr style=\"text-align: right;\">\n",
       "      <th></th>\n",
       "      <th>precipitation</th>\n",
       "      <th>mean_temp</th>\n",
       "      <th>min_temp</th>\n",
       "      <th>max_temp</th>\n",
       "      <th>snow_depth</th>\n",
       "    </tr>\n",
       "    <tr>\n",
       "      <th>date</th>\n",
       "      <th></th>\n",
       "      <th></th>\n",
       "      <th></th>\n",
       "      <th></th>\n",
       "      <th></th>\n",
       "    </tr>\n",
       "  </thead>\n",
       "  <tbody>\n",
       "    <tr>\n",
       "      <th>2000-01-01</th>\n",
       "      <td>0.00</td>\n",
       "      <td>7.00</td>\n",
       "      <td>4.90</td>\n",
       "      <td>10.80</td>\n",
       "      <td>0.00</td>\n",
       "    </tr>\n",
       "    <tr>\n",
       "      <th>2000-01-02</th>\n",
       "      <td>0.20</td>\n",
       "      <td>7.90</td>\n",
       "      <td>5.00</td>\n",
       "      <td>11.50</td>\n",
       "      <td>0.00</td>\n",
       "    </tr>\n",
       "    <tr>\n",
       "      <th>2000-01-03</th>\n",
       "      <td>6.00</td>\n",
       "      <td>9.40</td>\n",
       "      <td>7.20</td>\n",
       "      <td>9.50</td>\n",
       "      <td>0.00</td>\n",
       "    </tr>\n",
       "    <tr>\n",
       "      <th>2000-01-04</th>\n",
       "      <td>0.20</td>\n",
       "      <td>7.00</td>\n",
       "      <td>4.40</td>\n",
       "      <td>11.00</td>\n",
       "      <td>0.00</td>\n",
       "    </tr>\n",
       "    <tr>\n",
       "      <th>2000-01-05</th>\n",
       "      <td>0.80</td>\n",
       "      <td>6.40</td>\n",
       "      <td>1.90</td>\n",
       "      <td>10.80</td>\n",
       "      <td>0.00</td>\n",
       "    </tr>\n",
       "  </tbody>\n",
       "</table>\n",
       "</div>"
      ],
      "text/plain": [
       "            precipitation  mean_temp  min_temp  max_temp  snow_depth\n",
       "date                                                                \n",
       "2000-01-01           0.00       7.00      4.90     10.80        0.00\n",
       "2000-01-02           0.20       7.90      5.00     11.50        0.00\n",
       "2000-01-03           6.00       9.40      7.20      9.50        0.00\n",
       "2000-01-04           0.20       7.00      4.40     11.00        0.00\n",
       "2000-01-05           0.80       6.40      1.90     10.80        0.00"
      ]
     },
     "execution_count": 107,
     "metadata": {},
     "output_type": "execute_result"
    }
   ],
   "source": [
    "# keeeping only the required features and data from the year 2000\n",
    "df = df.loc['2000':, ['precipitation', 'mean_temp', 'min_temp', \n",
    "                      'max_temp', 'snow_depth']]\n",
    "df.head()"
   ]
  },
  {
   "cell_type": "code",
   "execution_count": 108,
   "id": "486e55a8",
   "metadata": {},
   "outputs": [
    {
     "data": {
      "text/plain": [
       "precipitation       6\n",
       "mean_temp          36\n",
       "min_temp            2\n",
       "max_temp            6\n",
       "snow_depth       1441\n",
       "dtype: int64"
      ]
     },
     "execution_count": 108,
     "metadata": {},
     "output_type": "execute_result"
    }
   ],
   "source": [
    "# checking for missing values \n",
    "df.isna().sum()"
   ]
  },
  {
   "cell_type": "code",
   "execution_count": 109,
   "id": "9a9a184f",
   "metadata": {},
   "outputs": [
    {
     "data": {
      "text/plain": [
       "precipitation    0\n",
       "mean_temp        0\n",
       "min_temp         0\n",
       "max_temp         0\n",
       "snow_depth       0\n",
       "dtype: int64"
      ]
     },
     "execution_count": 109,
     "metadata": {},
     "output_type": "execute_result"
    }
   ],
   "source": [
    "df.ffill(inplace=True)  # Forward fill missing values\n",
    "df.isna().sum()"
   ]
  },
  {
   "cell_type": "markdown",
   "id": "010eb2a7",
   "metadata": {},
   "source": [
    "# Part 2) Answer the Questions with Visualizations"
   ]
  },
  {
   "cell_type": "markdown",
   "id": "0c49c0c7",
   "metadata": {},
   "source": [
    "## What month had the most precipitation between 2000 through 2010?"
   ]
  },
  {
   "cell_type": "code",
   "execution_count": 110,
   "id": "4f281e27",
   "metadata": {},
   "outputs": [
    {
     "data": {
      "text/html": [
       "<div>\n",
       "<style scoped>\n",
       "    .dataframe tbody tr th:only-of-type {\n",
       "        vertical-align: middle;\n",
       "    }\n",
       "\n",
       "    .dataframe tbody tr th {\n",
       "        vertical-align: top;\n",
       "    }\n",
       "\n",
       "    .dataframe thead th {\n",
       "        text-align: right;\n",
       "    }\n",
       "</style>\n",
       "<table border=\"1\" class=\"dataframe\">\n",
       "  <thead>\n",
       "    <tr style=\"text-align: right;\">\n",
       "      <th></th>\n",
       "      <th>precipitation</th>\n",
       "    </tr>\n",
       "    <tr>\n",
       "      <th>date</th>\n",
       "      <th></th>\n",
       "    </tr>\n",
       "  </thead>\n",
       "  <tbody>\n",
       "    <tr>\n",
       "      <th>2000-01-31</th>\n",
       "      <td>16.50</td>\n",
       "    </tr>\n",
       "    <tr>\n",
       "      <th>2000-02-29</th>\n",
       "      <td>62.20</td>\n",
       "    </tr>\n",
       "    <tr>\n",
       "      <th>2000-03-31</th>\n",
       "      <td>16.00</td>\n",
       "    </tr>\n",
       "    <tr>\n",
       "      <th>2000-04-30</th>\n",
       "      <td>99.60</td>\n",
       "    </tr>\n",
       "    <tr>\n",
       "      <th>2000-05-31</th>\n",
       "      <td>87.20</td>\n",
       "    </tr>\n",
       "    <tr>\n",
       "      <th>...</th>\n",
       "      <td>...</td>\n",
       "    </tr>\n",
       "    <tr>\n",
       "      <th>2010-08-31</th>\n",
       "      <td>88.60</td>\n",
       "    </tr>\n",
       "    <tr>\n",
       "      <th>2010-09-30</th>\n",
       "      <td>38.20</td>\n",
       "    </tr>\n",
       "    <tr>\n",
       "      <th>2010-10-31</th>\n",
       "      <td>74.80</td>\n",
       "    </tr>\n",
       "    <tr>\n",
       "      <th>2010-11-30</th>\n",
       "      <td>32.20</td>\n",
       "    </tr>\n",
       "    <tr>\n",
       "      <th>2010-12-31</th>\n",
       "      <td>21.40</td>\n",
       "    </tr>\n",
       "  </tbody>\n",
       "</table>\n",
       "<p>132 rows × 1 columns</p>\n",
       "</div>"
      ],
      "text/plain": [
       "            precipitation\n",
       "date                     \n",
       "2000-01-31          16.50\n",
       "2000-02-29          62.20\n",
       "2000-03-31          16.00\n",
       "2000-04-30          99.60\n",
       "2000-05-31          87.20\n",
       "...                   ...\n",
       "2010-08-31          88.60\n",
       "2010-09-30          38.20\n",
       "2010-10-31          74.80\n",
       "2010-11-30          32.20\n",
       "2010-12-31          21.40\n",
       "\n",
       "[132 rows x 1 columns]"
      ]
     },
     "execution_count": 110,
     "metadata": {},
     "output_type": "execute_result"
    }
   ],
   "source": [
    "pre_col = ['precipitation']\n",
    "preci_data = df.loc['2000':'2010', pre_col].resample('M').sum()\n",
    "preci_data"
   ]
  },
  {
   "cell_type": "code",
   "execution_count": 111,
   "id": "41c02647",
   "metadata": {},
   "outputs": [
    {
     "data": {
      "text/plain": [
       "Timestamp('2000-10-31 00:00:00', freq='M')"
      ]
     },
     "execution_count": 111,
     "metadata": {},
     "output_type": "execute_result"
    }
   ],
   "source": [
    "date_max = preci_data['precipitation'].idxmax()\n",
    "date_max"
   ]
  },
  {
   "cell_type": "code",
   "execution_count": 112,
   "id": "963d38e2",
   "metadata": {},
   "outputs": [
    {
     "data": {
      "text/plain": [
       "155.4"
      ]
     },
     "execution_count": 112,
     "metadata": {},
     "output_type": "execute_result"
    }
   ],
   "source": [
    "maxp = preci_data['precipitation'].max()\n",
    "maxp"
   ]
  },
  {
   "cell_type": "code",
   "execution_count": 113,
   "id": "6e350128",
   "metadata": {},
   "outputs": [],
   "source": [
    "# creating tick locators and data formatters \n",
    "\n",
    "# Creating the locator to place ticks every 3 months.\n",
    "loc_3months = mdates.MonthLocator(interval=4)\n",
    "\n",
    "# For major year ticks\n",
    "loc_year = mdates.YearLocator()\n",
    "fmt_year = mdates.DateFormatter(\"%Y\")\n"
   ]
  },
  {
   "cell_type": "code",
   "execution_count": 356,
   "id": "714c1722",
   "metadata": {},
   "outputs": [
    {
     "data": {
      "text/plain": [
       "Timestamp('2000-10-31 00:00:00', freq='M')"
      ]
     },
     "execution_count": 356,
     "metadata": {},
     "output_type": "execute_result"
    }
   ],
   "source": [
    "date_max = preci_data['precipitation'].idxmax()\n",
    "date_max"
   ]
  },
  {
   "cell_type": "code",
   "execution_count": 357,
   "id": "306fbb85",
   "metadata": {},
   "outputs": [
    {
     "data": {
      "text/plain": [
       "155.4"
      ]
     },
     "execution_count": 357,
     "metadata": {},
     "output_type": "execute_result"
    }
   ],
   "source": [
    "maxp = preci_data['precipitation'].max()\n",
    "maxp"
   ]
  },
  {
   "cell_type": "code",
   "execution_count": 367,
   "id": "0c526480",
   "metadata": {},
   "outputs": [],
   "source": [
    "# creating tick locators and data formatters \n",
    "\n",
    "# Creating the locator to place ticks every 3 months.\n",
    "loc_3months = mdates.MonthLocator(interval=4)\n",
    "\n",
    "# For major year ticks\n",
    "loc_year = mdates.YearLocator()\n",
    "fmt_year = mdates.DateFormatter(\"%Y\")"
   ]
  },
  {
   "cell_type": "code",
   "execution_count": 114,
   "id": "d81d0a6b",
   "metadata": {},
   "outputs": [
    {
     "data": {
      "image/png": "[encoded data removed]",
      "text/plain": [
       "<Figure size 1200x300 with 1 Axes>"
      ]
     },
     "metadata": {},
     "output_type": "display_data"
    }
   ],
   "source": [
    "# Making the fig and axis\n",
    "fig, ax = plt.subplots(figsize=(12,3))\n",
    "ax.plot(preci_data)\n",
    "ax.set(title='Precipitation for 2000-2010', ylabel='Inches', xlabel='Date')\n",
    "# Minor ticks\n",
    "ax.xaxis.set_minor_locator(loc_3months)\n",
    "\n",
    "# Major ticks\n",
    "ax.xaxis.set_major_locator(loc_year)\n",
    "ax.xaxis.set_major_formatter(fmt_year)\n",
    "\n",
    "# Making major/minor gridlines visually distince\n",
    "fig.autofmt_xdate(rotation=90,ha='center')\n",
    "\n",
    "# Making a vline\n",
    "ax.axvline(x=date_max, color='b', lw=4, ls='--', label= f'Max Precipitation of {maxp} on {date_max.strftime(\"%B, %Y\")}')\n",
    "# Making a legend/labels\n",
    "ax.legend();"
   ]
  },
  {
   "cell_type": "markdown",
   "id": "78121dc2",
   "metadata": {},
   "source": [
    "### Question 1 Results: Based on the result, the highest Precipitation occured at the end of 2000. "
   ]
  },
  {
   "cell_type": "markdown",
   "id": "a54af2b1",
   "metadata": {},
   "source": [
    "## Which year between 2000-2020 had the coolest average temperature?"
   ]
  },
  {
   "cell_type": "code",
   "execution_count": 115,
   "id": "b91ecc5c",
   "metadata": {},
   "outputs": [
    {
     "data": {
      "text/html": [
       "<div>\n",
       "<style scoped>\n",
       "    .dataframe tbody tr th:only-of-type {\n",
       "        vertical-align: middle;\n",
       "    }\n",
       "\n",
       "    .dataframe tbody tr th {\n",
       "        vertical-align: top;\n",
       "    }\n",
       "\n",
       "    .dataframe thead th {\n",
       "        text-align: right;\n",
       "    }\n",
       "</style>\n",
       "<table border=\"1\" class=\"dataframe\">\n",
       "  <thead>\n",
       "    <tr style=\"text-align: right;\">\n",
       "      <th></th>\n",
       "      <th>mean_temp</th>\n",
       "    </tr>\n",
       "    <tr>\n",
       "      <th>date</th>\n",
       "      <th></th>\n",
       "    </tr>\n",
       "  </thead>\n",
       "  <tbody>\n",
       "    <tr>\n",
       "      <th>2000-12-31</th>\n",
       "      <td>11.58</td>\n",
       "    </tr>\n",
       "    <tr>\n",
       "      <th>2001-12-31</th>\n",
       "      <td>11.34</td>\n",
       "    </tr>\n",
       "    <tr>\n",
       "      <th>2002-12-31</th>\n",
       "      <td>12.08</td>\n",
       "    </tr>\n",
       "    <tr>\n",
       "      <th>2003-12-31</th>\n",
       "      <td>12.14</td>\n",
       "    </tr>\n",
       "    <tr>\n",
       "      <th>2004-12-31</th>\n",
       "      <td>11.87</td>\n",
       "    </tr>\n",
       "    <tr>\n",
       "      <th>2005-12-31</th>\n",
       "      <td>11.82</td>\n",
       "    </tr>\n",
       "    <tr>\n",
       "      <th>2006-12-31</th>\n",
       "      <td>12.27</td>\n",
       "    </tr>\n",
       "    <tr>\n",
       "      <th>2007-12-31</th>\n",
       "      <td>11.90</td>\n",
       "    </tr>\n",
       "    <tr>\n",
       "      <th>2008-12-31</th>\n",
       "      <td>11.32</td>\n",
       "    </tr>\n",
       "    <tr>\n",
       "      <th>2009-12-31</th>\n",
       "      <td>11.72</td>\n",
       "    </tr>\n",
       "    <tr>\n",
       "      <th>2010-12-31</th>\n",
       "      <td>10.64</td>\n",
       "    </tr>\n",
       "    <tr>\n",
       "      <th>2011-12-31</th>\n",
       "      <td>12.38</td>\n",
       "    </tr>\n",
       "    <tr>\n",
       "      <th>2012-12-31</th>\n",
       "      <td>11.33</td>\n",
       "    </tr>\n",
       "    <tr>\n",
       "      <th>2013-12-31</th>\n",
       "      <td>11.16</td>\n",
       "    </tr>\n",
       "    <tr>\n",
       "      <th>2014-12-31</th>\n",
       "      <td>12.66</td>\n",
       "    </tr>\n",
       "  </tbody>\n",
       "</table>\n",
       "</div>"
      ],
      "text/plain": [
       "            mean_temp\n",
       "date                 \n",
       "2000-12-31      11.58\n",
       "2001-12-31      11.34\n",
       "2002-12-31      12.08\n",
       "2003-12-31      12.14\n",
       "2004-12-31      11.87\n",
       "2005-12-31      11.82\n",
       "2006-12-31      12.27\n",
       "2007-12-31      11.90\n",
       "2008-12-31      11.32\n",
       "2009-12-31      11.72\n",
       "2010-12-31      10.64\n",
       "2011-12-31      12.38\n",
       "2012-12-31      11.33\n",
       "2013-12-31      11.16\n",
       "2014-12-31      12.66"
      ]
     },
     "execution_count": 115,
     "metadata": {},
     "output_type": "execute_result"
    }
   ],
   "source": [
    "temp_cols = ['mean_temp']\n",
    "data_df = df.loc['2000':'2020', temp_cols].resample('Y').mean()\n",
    "data_df[:15]"
   ]
  },
  {
   "cell_type": "code",
   "execution_count": 116,
   "id": "6352460b",
   "metadata": {},
   "outputs": [
    {
     "data": {
      "text/plain": [
       "Timestamp('2010-12-31 00:00:00', freq='A-DEC')"
      ]
     },
     "execution_count": 116,
     "metadata": {},
     "output_type": "execute_result"
    }
   ],
   "source": [
    "# finding the date with the minimum average temperature\n",
    "date_min = data_df['mean_temp'].idxmin()\n",
    "date_min"
   ]
  },
  {
   "cell_type": "code",
   "execution_count": 117,
   "id": "72608659",
   "metadata": {},
   "outputs": [
    {
     "data": {
      "text/plain": [
       "10.64"
      ]
     },
     "execution_count": 117,
     "metadata": {},
     "output_type": "execute_result"
    }
   ],
   "source": [
    "mint = data_df['mean_temp'].min()\n",
    "umint = round(mint, 2)\n",
    "umint"
   ]
  },
  {
   "cell_type": "code",
   "execution_count": 118,
   "id": "e635e22d",
   "metadata": {},
   "outputs": [],
   "source": [
    "# creating locators to place ticks every year \n",
    "single_year = mdates.YearLocator()\n",
    "\n",
    "# For major year ticks\n",
    "# creating  locators to place ticks every 5 years\n",
    "interval_year = mdates.YearLocator(5)\n",
    "fmt_year = mdates.DateFormatter(\"%Y\")"
   ]
  },
  {
   "cell_type": "code",
   "execution_count": 120,
   "id": "4b370f63",
   "metadata": {},
   "outputs": [
    {
     "data": {
      "image/png": "[encoded data removed]",
      "text/plain": [
       "<Figure size 1200x300 with 1 Axes>"
      ]
     },
     "metadata": {},
     "output_type": "display_data"
    }
   ],
   "source": [
    "fig, ax = plt.subplots(figsize=(12,3)) ## setting up the grid for plotting \n",
    "ax.plot(data_df)\n",
    "ax.set(title='Average Temperature', ylabel='Degrees', xlabel='Date')\n",
    "# Minor ticks\n",
    "ax.xaxis.set_minor_locator(single_year)\n",
    "\n",
    "# Major ticks\n",
    "ax.xaxis.set_major_locator(interval_year)\n",
    "ax.xaxis.set_major_formatter(fmt_year)\n",
    "\n",
    "# Making major/minor gridlines visually distince\n",
    "fig.autofmt_xdate(rotation=90,ha='center')\n",
    "\n",
    "# Making a vline\n",
    "ax.axvline(x=date_min, color='r', lw=4, ls='--', label= f'Min Precipitation of {umint} on {date_min.strftime(\"%B, %Y\")}')\n",
    "# Making a legend/labels\n",
    "ax.legend();"
   ]
  },
  {
   "cell_type": "markdown",
   "id": "87fdfbab",
   "metadata": {},
   "source": [
    "### Results:\n",
    "Based on the plot, February 2010 had the coolest average temperature. "
   ]
  },
  {
   "cell_type": "code",
   "execution_count": null,
   "id": "cb76e022",
   "metadata": {},
   "outputs": [],
   "source": []
  }
 ],
 "metadata": {
  "kernelspec": {
   "display_name": "Python (dojo-env)",
   "language": "python",
   "name": "dojo-env"
  },
  "language_info": {
   "codemirror_mode": {
    "name": "ipython",
    "version": 3
   },
   "file_extension": ".py",
   "mimetype": "text/x-python",
   "name": "python",
   "nbconvert_exporter": "python",
   "pygments_lexer": "ipython3",
   "version": "3.9.15"
  },
  "toc": {
   "base_numbering": 1,
   "nav_menu": {},
   "number_sections": true,
   "sideBar": true,
   "skip_h1_title": false,
   "title_cell": "Table of Contents",
   "title_sidebar": "Contents",
   "toc_cell": false,
   "toc_position": {},
   "toc_section_display": true,
   "toc_window_display": false
  }
 },
 "nbformat": 4,
 "nbformat_minor": 5
}
